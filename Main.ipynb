{
 "cells": [
  {
   "cell_type": "code",
   "execution_count": null,
   "metadata": {},
   "outputs": [],
   "source": [
    "! pip install pandas\n",
    "! pip install pydicom\n",
    "\n",
    "import glob, pylab, pandas as pd\n",
    "import pydicom, numpy as np\n",
    "from skimage.transform import resize\n",
    "\n"
   ]
  },
  {
   "cell_type": "code",
   "execution_count": null,
   "metadata": {
    "scrolled": false
   },
   "outputs": [],
   "source": [
    "# Show files in data\n",
    "!ls data\n",
    "\n",
    "# display label format\n",
    "df = pd.read_csv('data/stage_1_train_labels.csv')\n",
    "\n",
    "\n",
    "# \n",
    "No = 4\n",
    "patientId = df['patientId'][No]\n",
    "dcm_file = 'data/stage_1_train_images/%s.dcm' % patientId\n",
    "dcm_data = pydicom.read_file(dcm_file)\n",
    "#print(df.iloc[No])\n",
    "\n",
    "\n",
    "#print(np.unique(df.Target))\n",
    "#print(df['patientId'])\n",
    "\n",
    "img_size = [224,224] # New size of xray images. \n",
    "new_df = pd.DataFrame({'Target':[],'Image':[]}) # Define new data frame for images and labels.\n",
    "unq, idx = np.unique(df['patientId'], return_index = True) # Get only unique entrances from the provided data (some patients occur multiple times)\n",
    "\n",
    "# Reshape images and match to corresponding label in new dataframe\n",
    "for i in idx[0:1000]:\n",
    "    new_df.Target[i] = df.Target[i] # Get label\n",
    "    patientId = df['patientId'][i] # get patient id from the idx \n",
    "    dcm_file = 'data/stage_1_train_images/%s.dcm' % patientId # find the image-file corresponding to the patient id\n",
    "    dcm_data = pydicom.read_file(dcm_file) # Load the image \n",
    "    new_df.Image[i] = resize(dcm_data.pixel_array, output_shape=img_size, mode='reflect', anti_aliasing=True) # resize image\n",
    "    if not i % 100:\n",
    "        print(i)\n",
    "        \n",
    "new_df.to_csv('data/data.csv')        \n",
    "\n",
    "#Show an example image\n",
    "im = new_df.Image[30]\n",
    "pylab.imshow(im, cmap=pylab.cm.gist_gray)\n",
    "pylab.axis('off')"
   ]
  },
  {
   "cell_type": "code",
   "execution_count": null,
   "metadata": {},
   "outputs": [],
   "source": []
  },
  {
   "cell_type": "code",
   "execution_count": null,
   "metadata": {},
   "outputs": [],
   "source": []
  }
 ],
 "metadata": {
  "kernelspec": {
   "display_name": "Python 3",
   "language": "python",
   "name": "python3"
  },
  "language_info": {
   "codemirror_mode": {
    "name": "ipython",
    "version": 3
   },
   "file_extension": ".py",
   "mimetype": "text/x-python",
   "name": "python",
   "nbconvert_exporter": "python",
   "pygments_lexer": "ipython3",
   "version": "3.6.6"
  }
 },
 "nbformat": 4,
 "nbformat_minor": 2
}
